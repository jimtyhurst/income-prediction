{
 "cells": [
  {
   "cell_type": "markdown",
   "id": "dfc5dab1-6d23-4767-b894-daba19848022",
   "metadata": {},
   "source": [
    "# Income Prediction: Clean the data\n",
    "\n",
    "1. Reads raw data from a local file.\n",
    "2. Transforms the data:\n",
    "    - Formats column names: Change dash (-) separator to underscore (_).\n",
    "    - Conflates equivalent values in the 'income' target variable to two classes: {'<=50K', '>50K'}.\n",
    "    - Converts \"?\" categorical values to \"Unknown\".\n",
    "3. Writes the transformed data to a local file."
   ]
  },
  {
   "cell_type": "code",
   "execution_count": 1,
   "id": "2d00b1f3-53af-44c5-a19b-27ac51f1b2f1",
   "metadata": {},
   "outputs": [],
   "source": [
    "CSV_FILE_TYPE = 'csv'\n",
    "PARQUET_FILE_TYPE = 'parquet'\n",
    "PARQUET_ENGINE = 'pyarrow'\n",
    "DATA_FILE_TYPE = PARQUET_FILE_TYPE  # or CSV_FILE_TYPE\n",
    "RAW_DATASET_PATH = f'../data/adult_income_raw.{DATA_FILE_TYPE}'\n",
    "CLEANED_DATASET_PATH = f'../data/adult_income_cleaned.{DATA_FILE_TYPE}'"
   ]
  },
  {
   "cell_type": "code",
   "execution_count": 2,
   "id": "767dd336-e981-4be3-942d-c089eb56f6cb",
   "metadata": {},
   "outputs": [],
   "source": [
    "import pandas as pd\n",
    "import matplotlib.pyplot as plt"
   ]
  },
  {
   "cell_type": "code",
   "execution_count": 3,
   "id": "f8c95925-dd45-4acc-be84-096f97ce0012",
   "metadata": {},
   "outputs": [
    {
     "name": "stdout",
     "output_type": "stream",
     "text": [
      "Dataframe loaded from: ../data/adult_income_raw.parquet\n"
     ]
    }
   ],
   "source": [
    "# Reads raw data from a local file.\n",
    "if DATA_FILE_TYPE == PARQUET_FILE_TYPE:\n",
    "    df = pd.read_parquet(\n",
    "        RAW_DATASET_PATH,\n",
    "        engine=PARQUET_ENGINE,\n",
    "    )\n",
    "elif DATA_FILE_TYPE == CSV_FILE_TYPE:\n",
    "    df = pd.read_csv(RAW_DATASET_PATH)\n",
    "else:\n",
    "    raise Exception(f\"Unexpected {DATA_FILE_TYPE=}. Use one of ['{PARQUET_FILE_TYPE}', '{CSV_FILE_TYPE}'] instead.\")\n",
    "print(f\"Dataframe loaded from: {RAW_DATASET_PATH}\")"
   ]
  },
  {
   "cell_type": "code",
   "execution_count": 4,
   "id": "dff22ddb-f877-4a85-824a-b386705b3dc4",
   "metadata": {},
   "outputs": [
    {
     "name": "stdout",
     "output_type": "stream",
     "text": [
      "<class 'pandas.core.frame.DataFrame'>\n",
      "RangeIndex: 48842 entries, 0 to 48841\n",
      "Data columns (total 15 columns):\n",
      " #   Column          Non-Null Count  Dtype \n",
      "---  ------          --------------  ----- \n",
      " 0   age             48842 non-null  int64 \n",
      " 1   workclass       47879 non-null  object\n",
      " 2   fnlwgt          48842 non-null  int64 \n",
      " 3   education       48842 non-null  object\n",
      " 4   education-num   48842 non-null  int64 \n",
      " 5   marital-status  48842 non-null  object\n",
      " 6   occupation      47876 non-null  object\n",
      " 7   relationship    48842 non-null  object\n",
      " 8   race            48842 non-null  object\n",
      " 9   sex             48842 non-null  object\n",
      " 10  capital-gain    48842 non-null  int64 \n",
      " 11  capital-loss    48842 non-null  int64 \n",
      " 12  hours-per-week  48842 non-null  int64 \n",
      " 13  native-country  48568 non-null  object\n",
      " 14  income          48842 non-null  object\n",
      "dtypes: int64(6), object(9)\n",
      "memory usage: 5.6+ MB\n"
     ]
    }
   ],
   "source": [
    "df.info()"
   ]
  },
  {
   "cell_type": "markdown",
   "id": "dcd539d9-b95f-497a-9354-36733519b788",
   "metadata": {},
   "source": [
    "## Data transformations"
   ]
  },
  {
   "cell_type": "code",
   "execution_count": 5,
   "id": "deb36b6a-6136-4b0f-856b-f2f7496bce6c",
   "metadata": {},
   "outputs": [
    {
     "name": "stdout",
     "output_type": "stream",
     "text": [
      "<class 'pandas.core.frame.DataFrame'>\n",
      "RangeIndex: 48842 entries, 0 to 48841\n",
      "Data columns (total 15 columns):\n",
      " #   Column           Non-Null Count  Dtype \n",
      "---  ------           --------------  ----- \n",
      " 0   age              48842 non-null  int64 \n",
      " 1   workclass        47879 non-null  object\n",
      " 2   final_weight     48842 non-null  int64 \n",
      " 3   education        48842 non-null  object\n",
      " 4   education_level  48842 non-null  int64 \n",
      " 5   marital_status   48842 non-null  object\n",
      " 6   occupation       47876 non-null  object\n",
      " 7   relationship     48842 non-null  object\n",
      " 8   race             48842 non-null  object\n",
      " 9   sex              48842 non-null  object\n",
      " 10  capital_gain     48842 non-null  int64 \n",
      " 11  capital_loss     48842 non-null  int64 \n",
      " 12  hours_per_week   48842 non-null  int64 \n",
      " 13  native_country   48568 non-null  object\n",
      " 14  income           48842 non-null  object\n",
      "dtypes: int64(6), object(9)\n",
      "memory usage: 5.6+ MB\n"
     ]
    }
   ],
   "source": [
    "# Rename columns\n",
    "df.rename(\n",
    "    columns={\n",
    "        'fnlwgt': 'final_weight',\n",
    "        'education-num': 'education_level',\n",
    "        'marital-status': 'marital_status',\n",
    "        'capital-gain': 'capital_gain',\n",
    "        'capital-loss': 'capital_loss',\n",
    "        'hours-per-week': 'hours_per_week',\n",
    "        'native-country': 'native_country',\n",
    "    }, \n",
    "    inplace=True\n",
    ")\n",
    "df.info()"
   ]
  },
  {
   "cell_type": "code",
   "execution_count": 6,
   "id": "a10bf551-1819-4305-b061-9eb602f4ef83",
   "metadata": {},
   "outputs": [
    {
     "data": {
      "text/plain": [
       "income\n",
       "<=50K     24720\n",
       "<=50K.    12435\n",
       ">50K       7841\n",
       ">50K.      3846\n",
       "Name: count, dtype: int64"
      ]
     },
     "execution_count": 6,
     "metadata": {},
     "output_type": "execute_result"
    }
   ],
   "source": [
    "# Values before the 'income' column is made consistent.\n",
    "df['income'].value_counts()"
   ]
  },
  {
   "cell_type": "code",
   "execution_count": 7,
   "id": "56f9a7bc-194a-437e-a14c-1c258e35a32f",
   "metadata": {},
   "outputs": [
    {
     "data": {
      "text/plain": [
       "income\n",
       "<=50K    37155\n",
       ">50K     11687\n",
       "Name: count, dtype: int64"
      ]
     },
     "execution_count": 7,
     "metadata": {},
     "output_type": "execute_result"
    }
   ],
   "source": [
    "# Standardizes the values in the target column.\n",
    "df['income'] = df['income'].apply(lambda x: '<=50K' if x == '<=50K.' else '>50K' if x == '>50K.' else x)\n",
    "df['income'].value_counts()"
   ]
  },
  {
   "cell_type": "code",
   "execution_count": 8,
   "id": "03372195-0e07-4565-bb79-be33aaca7c81",
   "metadata": {},
   "outputs": [
    {
     "data": {
      "text/plain": [
       "occupation\n",
       "Prof-specialty       6172\n",
       "Craft-repair         6112\n",
       "Exec-managerial      6086\n",
       "Adm-clerical         5611\n",
       "Sales                5504\n",
       "Other-service        4923\n",
       "Machine-op-inspct    3022\n",
       "Transport-moving     2355\n",
       "Handlers-cleaners    2072\n",
       "Unknown              1843\n",
       "Farming-fishing      1490\n",
       "Tech-support         1446\n",
       "Protective-serv       983\n",
       "Priv-house-serv       242\n",
       "Armed-Forces           15\n",
       "Name: count, dtype: int64"
      ]
     },
     "execution_count": 8,
     "metadata": {},
     "output_type": "execute_result"
    }
   ],
   "source": [
    "# Converts \"?\" value to \"Unknown\".\n",
    "df['occupation'] = df['occupation'].apply(lambda x: 'Unknown' if x == '?' else x)\n",
    "df['occupation'].value_counts()"
   ]
  },
  {
   "cell_type": "code",
   "execution_count": 9,
   "id": "a9707434-37d3-4957-9be0-5230364e65ac",
   "metadata": {},
   "outputs": [
    {
     "data": {
      "text/plain": [
       "workclass\n",
       "Private             33906\n",
       "Self-emp-not-inc     3862\n",
       "Local-gov            3136\n",
       "State-gov            1981\n",
       "Unknown              1836\n",
       "Self-emp-inc         1695\n",
       "Federal-gov          1432\n",
       "Without-pay            21\n",
       "Never-worked           10\n",
       "Name: count, dtype: int64"
      ]
     },
     "execution_count": 9,
     "metadata": {},
     "output_type": "execute_result"
    }
   ],
   "source": [
    "# Converts \"?\" value to \"Unknown\".\n",
    "df['workclass'] = df['workclass'].apply(lambda x: 'Unknown' if x == '?' else x)\n",
    "df['workclass'].value_counts()"
   ]
  },
  {
   "cell_type": "code",
   "execution_count": 10,
   "id": "82522a6f-30fb-4c6b-9684-854c6e8a6bc4",
   "metadata": {},
   "outputs": [
    {
     "data": {
      "text/plain": [
       "native_country\n",
       "United-States                 43832\n",
       "Mexico                          951\n",
       "Unknown                         583\n",
       "Philippines                     295\n",
       "Germany                         206\n",
       "Puerto-Rico                     184\n",
       "Canada                          182\n",
       "El-Salvador                     155\n",
       "India                           151\n",
       "Cuba                            138\n",
       "England                         127\n",
       "China                           122\n",
       "South                           115\n",
       "Jamaica                         106\n",
       "Italy                           105\n",
       "Dominican-Republic              103\n",
       "Japan                            92\n",
       "Guatemala                        88\n",
       "Poland                           87\n",
       "Vietnam                          86\n",
       "Columbia                         85\n",
       "Haiti                            75\n",
       "Portugal                         67\n",
       "Taiwan                           65\n",
       "Iran                             59\n",
       "Greece                           49\n",
       "Nicaragua                        49\n",
       "Peru                             46\n",
       "Ecuador                          45\n",
       "France                           38\n",
       "Ireland                          37\n",
       "Hong                             30\n",
       "Thailand                         30\n",
       "Cambodia                         28\n",
       "Trinadad&Tobago                  27\n",
       "Laos                             23\n",
       "Yugoslavia                       23\n",
       "Outlying-US(Guam-USVI-etc)       23\n",
       "Scotland                         21\n",
       "Honduras                         20\n",
       "Hungary                          19\n",
       "Holand-Netherlands                1\n",
       "Name: count, dtype: int64"
      ]
     },
     "execution_count": 10,
     "metadata": {},
     "output_type": "execute_result"
    }
   ],
   "source": [
    "# Converts \"?\" value to \"Unknown\".\n",
    "df['native_country'] = df['native_country'].apply(lambda x: 'Unknown' if x == '?' else x)\n",
    "df['native_country'].value_counts()"
   ]
  },
  {
   "cell_type": "markdown",
   "id": "c891453d-6cf8-40b2-8568-4f4282257c8f",
   "metadata": {},
   "source": [
    "## Save clean data to a local file"
   ]
  },
  {
   "cell_type": "code",
   "execution_count": 11,
   "id": "e39937f9-9632-4f10-8eff-7b828aa9cc18",
   "metadata": {},
   "outputs": [
    {
     "name": "stdout",
     "output_type": "stream",
     "text": [
      "Data saved to: ../data/adult_income_cleaned.parquet\n"
     ]
    }
   ],
   "source": [
    "# Saves the Dataframe of cleaned data to a local file for later analysis.\n",
    "if DATA_FILE_TYPE == PARQUET_FILE_TYPE:\n",
    "    df.to_parquet(\n",
    "        path=CLEANED_DATASET_PATH,\n",
    "        engine=PARQUET_ENGINE,\n",
    "        index=False,\n",
    "    )\n",
    "elif DATA_FILE_TYPE == CSV_FILE_TYPE:\n",
    "    df.to_csv(\n",
    "        path_or_buf=CLEANED_DATASET_PATH,\n",
    "        index=False,\n",
    "    )\n",
    "else:\n",
    "    raise Exception(f\"Unexpected {OUTPUT_FILE_TYPE=}. Use one of ['{PARQUET_FILE_TYPE}', '{CSV_FILE_TYPE}'].\")\n",
    "print(f\"Data saved to: {CLEANED_DATASET_PATH}\")"
   ]
  }
 ],
 "metadata": {
  "kernelspec": {
   "display_name": "sklearn-3.11",
   "language": "python",
   "name": "sklearn-3.11"
  },
  "language_info": {
   "codemirror_mode": {
    "name": "ipython",
    "version": 3
   },
   "file_extension": ".py",
   "mimetype": "text/x-python",
   "name": "python",
   "nbconvert_exporter": "python",
   "pygments_lexer": "ipython3",
   "version": "3.11.6"
  }
 },
 "nbformat": 4,
 "nbformat_minor": 5
}
