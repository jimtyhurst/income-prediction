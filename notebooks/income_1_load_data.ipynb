{
 "cells": [
  {
   "cell_type": "markdown",
   "id": "ba46b285-efaa-40dd-8281-4cc4368f9b94",
   "metadata": {},
   "source": [
    "# Income Prediction: Download adult income data to a local file\n",
    "\n",
    "Saves a Dataframe of raw data to a local file for later analysis.\n",
    "\n",
    "Data source: [Adult dataset](https://archive.ics.uci.edu/dataset/2/adult) in the [UC Irvine Machine Learning Repository](https://archive.ics.uci.edu/)."
   ]
  },
  {
   "cell_type": "code",
   "execution_count": 1,
   "id": "52d637f6-08b6-4247-8f30-f3e11372dd60",
   "metadata": {},
   "outputs": [],
   "source": [
    "CSV_FILE_TYPE = 'csv'\n",
    "PARQUET_FILE_TYPE = 'parquet'\n",
    "PARQUET_ENGINE = 'pyarrow'\n",
    "OUTPUT_FILE_TYPE = PARQUET_FILE_TYPE  # or CSV_FILE_TYPE\n",
    "OUTPUT_DATA_PATH = f'../data/adult_income_raw.{OUTPUT_FILE_TYPE}'"
   ]
  },
  {
   "cell_type": "code",
   "execution_count": 2,
   "id": "5b29fc6f-6a8e-47ea-8e96-cb585fd35d7c",
   "metadata": {},
   "outputs": [],
   "source": [
    "import pandas as pd\n",
    "import pyarrow\n",
    "from ucimlrepo import fetch_ucirepo"
   ]
  },
  {
   "cell_type": "markdown",
   "id": "8895d15c-117c-49fc-8ff0-5f195b746a95",
   "metadata": {},
   "source": [
    "## Read data from the public online repository"
   ]
  },
  {
   "cell_type": "code",
   "execution_count": 3,
   "id": "4e2364cf-e79b-4736-bacb-a6c6e3b2b177",
   "metadata": {},
   "outputs": [
    {
     "name": "stdout",
     "output_type": "stream",
     "text": [
      "<class 'pandas.core.frame.DataFrame'>\n",
      "RangeIndex: 48842 entries, 0 to 48841\n",
      "Data columns (total 15 columns):\n",
      " #   Column          Non-Null Count  Dtype \n",
      "---  ------          --------------  ----- \n",
      " 0   age             48842 non-null  int64 \n",
      " 1   workclass       47879 non-null  object\n",
      " 2   fnlwgt          48842 non-null  int64 \n",
      " 3   education       48842 non-null  object\n",
      " 4   education-num   48842 non-null  int64 \n",
      " 5   marital-status  48842 non-null  object\n",
      " 6   occupation      47876 non-null  object\n",
      " 7   relationship    48842 non-null  object\n",
      " 8   race            48842 non-null  object\n",
      " 9   sex             48842 non-null  object\n",
      " 10  capital-gain    48842 non-null  int64 \n",
      " 11  capital-loss    48842 non-null  int64 \n",
      " 12  hours-per-week  48842 non-null  int64 \n",
      " 13  native-country  48568 non-null  object\n",
      " 14  income          48842 non-null  object\n",
      "dtypes: int64(6), object(9)\n",
      "memory usage: 5.6+ MB\n"
     ]
    }
   ],
   "source": [
    "adult_income = fetch_ucirepo(name='Adult').data.original\n",
    "adult_income.info()"
   ]
  },
  {
   "cell_type": "markdown",
   "id": "c8abadd2-ad76-4136-9a53-800e492a23ee",
   "metadata": {},
   "source": [
    "## Write the data to a local file"
   ]
  },
  {
   "cell_type": "code",
   "execution_count": 4,
   "id": "9b24340a-9657-45a3-937e-d03317b9e418",
   "metadata": {},
   "outputs": [
    {
     "name": "stdout",
     "output_type": "stream",
     "text": [
      "Data saved to: ../data/adult_income_raw.parquet\n"
     ]
    }
   ],
   "source": [
    "# Saves the Dataframe of raw data to a local file for later analysis.\n",
    "if OUTPUT_FILE_TYPE == PARQUET_FILE_TYPE:\n",
    "    adult_income.to_parquet(\n",
    "        path=OUTPUT_DATA_PATH,\n",
    "        engine=PARQUET_ENGINE,\n",
    "        index=False,\n",
    "    )\n",
    "elif OUTPUT_FILE_TYPE == CSV_FILE_TYPE:\n",
    "    adult_income.to_csv(\n",
    "        path_or_buf=OUTPUT_DATA_PATH,\n",
    "        index=False,\n",
    "    )\n",
    "else:\n",
    "    raise Exception(f\"Unexpected {OUTPUT_FILE_TYPE=}. Use one of ['{PARQUET_FILE_TYPE}', '{CSV_FILE_TYPE}'].\")\n",
    "print(f\"Data saved to: {OUTPUT_DATA_PATH}\")"
   ]
  },
  {
   "cell_type": "code",
   "execution_count": null,
   "id": "20f1e3ef-8dde-4764-808b-1aeef3e7cb09",
   "metadata": {},
   "outputs": [],
   "source": []
  }
 ],
 "metadata": {
  "kernelspec": {
   "display_name": "sklearn-3.11",
   "language": "python",
   "name": "sklearn-3.11"
  },
  "language_info": {
   "codemirror_mode": {
    "name": "ipython",
    "version": 3
   },
   "file_extension": ".py",
   "mimetype": "text/x-python",
   "name": "python",
   "nbconvert_exporter": "python",
   "pygments_lexer": "ipython3",
   "version": "3.11.6"
  }
 },
 "nbformat": 4,
 "nbformat_minor": 5
}
